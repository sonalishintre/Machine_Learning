{
 "cells": [
  {
   "cell_type": "markdown",
   "metadata": {},
   "source": [
    "## Hyper parameter\n",
    "evaluating the performance model<br>\n",
    "Load all the libraries needed"
   ]
  },
  {
   "cell_type": "code",
   "execution_count": 2,
   "metadata": {},
   "outputs": [],
   "source": [
    "import sys\n",
    "import numpy as np\n",
    "import os\n",
    "import os.path as op\n",
    "import re\n",
    "import pandas as pd\n",
    "import imageio\n",
    "from skimage.io import imread, imsave\n",
    "from skimage.transform import resize\n",
    "from matplotlib import pyplot as plt\n",
    "from sklearn.metrics import roc_curve, auc\n",
    "from scipy import interp\n",
    "\n",
    "\n",
    "from sklearn.preprocessing import StandardScaler\n",
    "from sklearn.decomposition import PCA\n",
    "from sklearn.linear_model import LogisticRegression\n",
    "from sklearn.pipeline import make_pipeline\n",
    "import numpy as np\n",
    "from sklearn.model_selection import StratifiedKFold\n",
    "from sklearn.model_selection import cross_val_score\n",
    "import matplotlib.pyplot as plt\n",
    "from sklearn.model_selection import learning_curve\n",
    "from sklearn.model_selection import GridSearchCV\n",
    "from sklearn.svm import SVC\n",
    "\n",
    "from sklearn.linear_model import LinearRegression,LogisticRegression\n",
    "from sklearn.decomposition import KernelPCA\n",
    "from sklearn.model_selection import train_test_split\n",
    "from sklearn.manifold import TSNE\n",
    "from sklearn.ensemble import RandomForestClassifier\n",
    "import seaborn as sns\n",
    "from sklearn.metrics import accuracy_score, f1_score, precision_score, recall_score\n",
    "import datetime\n",
    "from PIL import Image\n",
    "from itertools import chain\n",
    "import csv\n",
    "import random\n",
    "import pickle\n",
    "\n",
    "import warnings\n",
    "warnings.filterwarnings('ignore');\n",
    "plt.style.use('ggplot')\n",
    "%matplotlib inline"
   ]
  },
  {
   "cell_type": "code",
   "execution_count": 5,
   "metadata": {},
   "outputs": [],
   "source": [
    "def loadDataAndLabels(myDataDir):\n",
    "    imgFiles = []\n",
    "    myLabel = []\n",
    "    with open(myDataDir+'/aa-labels.csv','r') as fi:\n",
    "        reader =  csv.reader(fi)\n",
    "        ignoreHead = 0\n",
    "        for row in reader:\n",
    "            #print(row)\n",
    "            if len(row) > 0:\n",
    "                if ignoreHead == 0:\n",
    "                    ignoreHead = 1\n",
    "                else:\n",
    "                    imgFiles.append(row[0])\n",
    "                    myLabel.append(row[1])\n",
    "    fi.close()\n",
    "    num_ims = len(imgFiles)\n",
    "    num_rows = 100\n",
    "    num_cols = 100\n",
    "    num_chans = 3\n",
    "    resize_factor = 4\n",
    "    num_rows_resize = int(num_rows/resize_factor)\n",
    "    num_cols_resize = int(num_cols/resize_factor)\n",
    "    myDataNp = np.zeros((num_ims,num_rows_resize,num_cols_resize,num_chans))\n",
    "    myLabelNp = np.array(myLabel)\n",
    "    i = 0\n",
    "    for imgName in imgFiles:\n",
    "        img_data = resize(imread(myDataDir+\"/\"+imgName+\".jpg\"),(num_rows_resize,num_cols_resize),mode='constant')\n",
    "        myDataNp[i,:,:,:] = img_data[:,:,:]\n",
    "        if i % 1000 == 0:\n",
    "            print(i,\": loaded img - \", myDataDir,\"/\",imgName,\".jpg\")\n",
    "        i = i+1\n",
    "    myDataNp = myDataNp.reshape(num_ims,num_rows_resize*num_cols_resize*num_chans)\n",
    "    return(myDataNp,myLabelNp)"
   ]
  },
  {
   "cell_type": "code",
   "execution_count": 6,
   "metadata": {},
   "outputs": [
    {
     "name": "stdout",
     "output_type": "stream",
     "text": [
      "0 : loaded img -  C:/Users/sonali/Desktop/DS/ml/project_final/fruits/fruits-360/modTraining_medtraj1 / Apple Braeburn_0_100_f0 .jpg\n",
      "1000 : loaded img -  C:/Users/sonali/Desktop/DS/ml/project_final/fruits/fruits-360/modTraining_medtraj1 / Apple Golden 2_107_100_f7 .jpg\n",
      "2000 : loaded img -  C:/Users/sonali/Desktop/DS/ml/project_final/fruits/fruits-360/modTraining_medtraj1 / Apple Granny Smith_113_100_f1 .jpg\n",
      "3000 : loaded img -  C:/Users/sonali/Desktop/DS/ml/project_final/fruits/fruits-360/modTraining_medtraj1 / Apple Red 2_117_100_f3 .jpg\n",
      "4000 : loaded img -  C:/Users/sonali/Desktop/DS/ml/project_final/fruits/fruits-360/modTraining_medtraj1 / Apple Red Delicious_125_100_f2 .jpg\n",
      "5000 : loaded img -  C:/Users/sonali/Desktop/DS/ml/project_final/fruits/fruits-360/modTraining_medtraj1 / Apple Red Yellow 2_156_100_f7 .jpg\n",
      "6000 : loaded img -  C:/Users/sonali/Desktop/DS/ml/project_final/fruits/fruits-360/modTraining_medtraj1 / Avocado_136_100_f2 .jpg\n",
      "7000 : loaded img -  C:/Users/sonali/Desktop/DS/ml/project_final/fruits/fruits-360/modTraining_medtraj1 / Banana_157_100_f3 .jpg\n",
      "8000 : loaded img -  C:/Users/sonali/Desktop/DS/ml/project_final/fruits/fruits-360/modTraining_medtraj1 / Cactus fruit_106_100_f4 .jpg\n",
      "9000 : loaded img -  C:/Users/sonali/Desktop/DS/ml/project_final/fruits/fruits-360/modTraining_medtraj1 / Cantaloupe 2_110_100_f1 .jpg\n",
      "10000 : loaded img -  C:/Users/sonali/Desktop/DS/ml/project_final/fruits/fruits-360/modTraining_medtraj1 / Cherry 1_111_100_f8 .jpg\n",
      "11000 : loaded img -  C:/Users/sonali/Desktop/DS/ml/project_final/fruits/fruits-360/modTraining_medtraj1 / Cherry Rainier_14_100_f8 .jpg\n",
      "12000 : loaded img -  C:/Users/sonali/Desktop/DS/ml/project_final/fruits/fruits-360/modTraining_medtraj1 / Cherry Wax Red_123_100_f9 .jpg\n",
      "13000 : loaded img -  C:/Users/sonali/Desktop/DS/ml/project_final/fruits/fruits-360/modTraining_medtraj1 / Chestnut_148_100_f6 .jpg\n",
      "14000 : loaded img -  C:/Users/sonali/Desktop/DS/ml/project_final/fruits/fruits-360/modTraining_medtraj1 / Cocos_139_100_f0 .jpg\n",
      "15000 : loaded img -  C:/Users/sonali/Desktop/DS/ml/project_final/fruits/fruits-360/modTraining_medtraj1 / Granadilla_160_100_f2 .jpg\n",
      "16000 : loaded img -  C:/Users/sonali/Desktop/DS/ml/project_final/fruits/fruits-360/modTraining_medtraj1 / Grape White_100_100_f2 .jpg\n",
      "17000 : loaded img -  C:/Users/sonali/Desktop/DS/ml/project_final/fruits/fruits-360/modTraining_medtraj1 / Grape White 3_103_100_f6 .jpg\n",
      "18000 : loaded img -  C:/Users/sonali/Desktop/DS/ml/project_final/fruits/fruits-360/modTraining_medtraj1 / Grapefruit Pink_115_100_f4 .jpg\n",
      "19000 : loaded img -  C:/Users/sonali/Desktop/DS/ml/project_final/fruits/fruits-360/modTraining_medtraj1 / Guava_128_100_f2 .jpg\n",
      "20000 : loaded img -  C:/Users/sonali/Desktop/DS/ml/project_final/fruits/fruits-360/modTraining_medtraj1 / Huckleberry_124_100_f4 .jpg\n",
      "21000 : loaded img -  C:/Users/sonali/Desktop/DS/ml/project_final/fruits/fruits-360/modTraining_medtraj1 / Kiwi_118_100_f9 .jpg\n",
      "22000 : loaded img -  C:/Users/sonali/Desktop/DS/ml/project_final/fruits/fruits-360/modTraining_medtraj1 / Lemon_123_100_f4 .jpg\n",
      "23000 : loaded img -  C:/Users/sonali/Desktop/DS/ml/project_final/fruits/fruits-360/modTraining_medtraj1 / Limes_186_100_f4 .jpg\n",
      "24000 : loaded img -  C:/Users/sonali/Desktop/DS/ml/project_final/fruits/fruits-360/modTraining_medtraj1 / Mandarine_136_100_f4 .jpg\n",
      "25000 : loaded img -  C:/Users/sonali/Desktop/DS/ml/project_final/fruits/fruits-360/modTraining_medtraj1 / Mangostan_178_100_f4 .jpg\n",
      "26000 : loaded img -  C:/Users/sonali/Desktop/DS/ml/project_final/fruits/fruits-360/modTraining_medtraj1 / Mulberry_103_100_f1 .jpg\n",
      "27000 : loaded img -  C:/Users/sonali/Desktop/DS/ml/project_final/fruits/fruits-360/modTraining_medtraj1 / Orange_107_100_f3 .jpg\n",
      "28000 : loaded img -  C:/Users/sonali/Desktop/DS/ml/project_final/fruits/fruits-360/modTraining_medtraj1 / Passion Fruit_12_100_f0 .jpg\n",
      "29000 : loaded img -  C:/Users/sonali/Desktop/DS/ml/project_final/fruits/fruits-360/modTraining_medtraj1 / Peach 2_148_100_f1 .jpg\n",
      "30000 : loaded img -  C:/Users/sonali/Desktop/DS/ml/project_final/fruits/fruits-360/modTraining_medtraj1 / Pear_122_100_f8 .jpg\n",
      "31000 : loaded img -  C:/Users/sonali/Desktop/DS/ml/project_final/fruits/fruits-360/modTraining_medtraj1 / Pear Kaiser_132_100_f6 .jpg\n",
      "32000 : loaded img -  C:/Users/sonali/Desktop/DS/ml/project_final/fruits/fruits-360/modTraining_medtraj1 / Pear Williams_133_100_f3 .jpg\n",
      "33000 : loaded img -  C:/Users/sonali/Desktop/DS/ml/project_final/fruits/fruits-360/modTraining_medtraj1 / Physalis_148_100_f5 .jpg\n",
      "34000 : loaded img -  C:/Users/sonali/Desktop/DS/ml/project_final/fruits/fruits-360/modTraining_medtraj1 / Pineapple_139_100_f6 .jpg\n",
      "35000 : loaded img -  C:/Users/sonali/Desktop/DS/ml/project_final/fruits/fruits-360/modTraining_medtraj1 / Pitahaya Red_145_100_f4 .jpg\n",
      "36000 : loaded img -  C:/Users/sonali/Desktop/DS/ml/project_final/fruits/fruits-360/modTraining_medtraj1 / Plum 3_104_100_f7 .jpg\n",
      "37000 : loaded img -  C:/Users/sonali/Desktop/DS/ml/project_final/fruits/fruits-360/modTraining_medtraj1 / Pomelo Sweetie_113_100_f1 .jpg\n",
      "38000 : loaded img -  C:/Users/sonali/Desktop/DS/ml/project_final/fruits/fruits-360/modTraining_medtraj1 / Rambutan_115_100_f5 .jpg\n",
      "39000 : loaded img -  C:/Users/sonali/Desktop/DS/ml/project_final/fruits/fruits-360/modTraining_medtraj1 / Redcurrant_120_100_f7 .jpg\n",
      "40000 : loaded img -  C:/Users/sonali/Desktop/DS/ml/project_final/fruits/fruits-360/modTraining_medtraj1 / Strawberry_126_100_f6 .jpg\n",
      "41000 : loaded img -  C:/Users/sonali/Desktop/DS/ml/project_final/fruits/fruits-360/modTraining_medtraj1 / Tamarillo_132_100_f4 .jpg\n",
      "42000 : loaded img -  C:/Users/sonali/Desktop/DS/ml/project_final/fruits/fruits-360/modTraining_medtraj1 / Tomato 1_137_100_f3 .jpg\n",
      "43000 : loaded img -  C:/Users/sonali/Desktop/DS/ml/project_final/fruits/fruits-360/modTraining_medtraj1 / Tomato 3_145_100_f4 .jpg\n",
      "44000 : loaded img -  C:/Users/sonali/Desktop/DS/ml/project_final/fruits/fruits-360/modTraining_medtraj1 / Tomato Cherry Red_140_100_f10 .jpg\n"
     ]
    }
   ],
   "source": [
    "TR_DATA_DIR = 'C:/Users/sonali/Desktop/DS/ml/project_final/fruits/fruits-360/modTraining_medtraj1'\n",
    "# Load the training set\n",
    "(trData,trLabel) = loadDataAndLabels(TR_DATA_DIR)"
   ]
  },
  {
   "cell_type": "code",
   "execution_count": 7,
   "metadata": {},
   "outputs": [
    {
     "name": "stdout",
     "output_type": "stream",
     "text": [
      "0 : loaded img -  C:/Users/sonali/Desktop/DS/ml/project_final/fruits/fruits-360/modTest_medtraj1 / Apple Braeburn_321_100_f0 .jpg\n",
      "1000 : loaded img -  C:/Users/sonali/Desktop/DS/ml/project_final/fruits/fruits-360/modTest_medtraj1 / Apple Red Yellow 2_112_100_f4 .jpg\n",
      "2000 : loaded img -  C:/Users/sonali/Desktop/DS/ml/project_final/fruits/fruits-360/modTest_medtraj1 / Carambula_146_100_f8 .jpg\n",
      "3000 : loaded img -  C:/Users/sonali/Desktop/DS/ml/project_final/fruits/fruits-360/modTest_medtraj1 / Granadilla_105_100_f0 .jpg\n",
      "4000 : loaded img -  C:/Users/sonali/Desktop/DS/ml/project_final/fruits/fruits-360/modTest_medtraj1 / Huckleberry_100_100_f11 .jpg\n",
      "5000 : loaded img -  C:/Users/sonali/Desktop/DS/ml/project_final/fruits/fruits-360/modTest_medtraj1 / Mangostan_132_100_f6 .jpg\n",
      "6000 : loaded img -  C:/Users/sonali/Desktop/DS/ml/project_final/fruits/fruits-360/modTest_medtraj1 / Pear_322_100_f1 .jpg\n",
      "7000 : loaded img -  C:/Users/sonali/Desktop/DS/ml/project_final/fruits/fruits-360/modTest_medtraj1 / Pitahaya Red_183_100_f0 .jpg\n",
      "8000 : loaded img -  C:/Users/sonali/Desktop/DS/ml/project_final/fruits/fruits-360/modTest_medtraj1 / Strawberry_322_100_f7 .jpg\n",
      "9000 : loaded img -  C:/Users/sonali/Desktop/DS/ml/project_final/fruits/fruits-360/modTest_medtraj1 / Walnut_105_100_f5 .jpg\n"
     ]
    }
   ],
   "source": [
    "TE_DATA_DIR = 'C:/Users/sonali/Desktop/DS/ml/project_final/fruits/fruits-360/modTest_medtraj1'\n",
    "# Load the test set\n",
    "(teData,teLabel) = loadDataAndLabels(TE_DATA_DIR)"
   ]
  },
  {
   "cell_type": "code",
   "execution_count": 8,
   "metadata": {},
   "outputs": [],
   "source": [
    "#X_train=trData,y_train=trLabel\n",
    "#X_test=teData,y_test=teLabel"
   ]
  },
  {
   "cell_type": "markdown",
   "metadata": {},
   "source": [
    "for the optimal perforamce we need to have input feature of same value so standardScaler, reduce the dimension for the\n",
    "better perforamce by PCA, logistic regression for the  linear classifeir using pipeline"
   ]
  },
  {
   "cell_type": "code",
   "execution_count": 9,
   "metadata": {},
   "outputs": [
    {
     "name": "stdout",
     "output_type": "stream",
     "text": [
      "Test Accuracy: 0.4240583232077764\n"
     ]
    }
   ],
   "source": [
    "pipe_logreg = make_pipeline(StandardScaler(),\n",
    "                        PCA(n_components=2),\n",
    "                        LogisticRegression(penalty='l2', \n",
    "                                           random_state=1, \n",
    "                                           C=100.0))\n",
    "\n",
    "pipe_logreg.fit(trData, trLabel)\n",
    "y_pred = pipe_logreg.predict(teData)\n",
    "print('Test Accuracy: {}' .format(pipe_logreg.score(teData, teLabel)))"
   ]
  },
  {
   "cell_type": "markdown",
   "metadata": {},
   "source": [
    "### Kfold cross validation\n",
    "training dataset is split in to 20 folds from that 19 folds are used in the model training and 1 is used to evaluate \n",
    "the preformace of the model"
   ]
  },
  {
   "cell_type": "code",
   "execution_count": 10,
   "metadata": {},
   "outputs": [
    {
     "name": "stdout",
     "output_type": "stream",
     "text": [
      "Fold:1, Accuracy:0.4238116392714349\n",
      "Fold:2, Accuracy:0.4260328742780986\n",
      "Fold:3, Accuracy:0.4362505553087517\n",
      "Fold:4, Accuracy:0.4255886272767659\n",
      "Fold:5, Accuracy:0.4264771212794314\n",
      "Fold:6, Accuracy:0.4264771212794314\n",
      "Fold:7, Accuracy:0.43066666666666664\n",
      "Fold:8, Accuracy:0.42444444444444446\n",
      "Fold:9, Accuracy:0.41955555555555557\n",
      "Fold:10, Accuracy:0.4235555555555556\n",
      "Fold:11, Accuracy:0.43422222222222223\n",
      "Fold:12, Accuracy:0.4191111111111111\n",
      "Fold:13, Accuracy:0.4182222222222222\n",
      "Fold:14, Accuracy:0.4117385504668742\n",
      "Fold:15, Accuracy:0.41218319253001334\n",
      "Fold:16, Accuracy:0.4295242329924411\n",
      "Fold:17, Accuracy:0.4308581591818586\n",
      "Fold:18, Accuracy:0.4359430604982206\n",
      "Fold:19, Accuracy:0.42857142857142855\n",
      "Fold:20, Accuracy:0.43168669336893634\n"
     ]
    }
   ],
   "source": [
    "kfold = StratifiedKFold(n_splits=20,random_state=1).split(trData, trLabel)\n",
    "\n",
    "scores = []\n",
    "for k, (train, test) in enumerate(kfold):\n",
    "    pipe_logreg.fit(trData[train], trLabel[train])\n",
    "    score = pipe_logreg.score(trData[test], trLabel[test])\n",
    "    scores.append(score)\n",
    "    print('Fold:{}, Accuracy:{}'.format(k+1, score))\n"
   ]
  },
  {
   "cell_type": "markdown",
   "metadata": {},
   "source": [
    "average accuray and std devation"
   ]
  },
  {
   "cell_type": "code",
   "execution_count": 11,
   "metadata": {},
   "outputs": [
    {
     "name": "stdout",
     "output_type": "stream",
     "text": [
      "Cross validation accuracy: 0.426 +/- 0.007\n"
     ]
    }
   ],
   "source": [
    "print('Cross validation accuracy: %.3f +/- %.3f' % (np.mean(scores), np.std(scores)))"
   ]
  },
  {
   "cell_type": "code",
   "execution_count": 12,
   "metadata": {},
   "outputs": [
    {
     "name": "stdout",
     "output_type": "stream",
     "text": [
      "cross validation accuracy scores:\n",
      "[0.42381164 0.42603287 0.43625056 0.42558863 0.42647712 0.42647712\n",
      " 0.43066667 0.42444444 0.41955556 0.42355556 0.43422222 0.41911111\n",
      " 0.41822222 0.41173855 0.41218319 0.42952423 0.43085816 0.43594306\n",
      " 0.42857143 0.43168669]\n"
     ]
    }
   ],
   "source": [
    "scores = cross_val_score(estimator=pipe_logreg,X=trData, y=trLabel,cv=20, n_jobs=1)\n",
    "print('cross validation accuracy scores:\\n{}'.format(scores))"
   ]
  },
  {
   "cell_type": "code",
   "execution_count": 13,
   "metadata": {},
   "outputs": [
    {
     "name": "stdout",
     "output_type": "stream",
     "text": [
      "cross validation accuracy: 0.426 +/- 0.007\n"
     ]
    }
   ],
   "source": [
    "print('cross validation accuracy: %.3f +/- %.3f' % (np.mean(scores), np.std(scores)))"
   ]
  }
 ],
 "metadata": {
  "kernelspec": {
   "display_name": "Python 3",
   "language": "python",
   "name": "python3"
  },
  "language_info": {
   "codemirror_mode": {
    "name": "ipython",
    "version": 3
   },
   "file_extension": ".py",
   "mimetype": "text/x-python",
   "name": "python",
   "nbconvert_exporter": "python",
   "pygments_lexer": "ipython3",
   "version": "3.6.8"
  }
 },
 "nbformat": 4,
 "nbformat_minor": 2
}
