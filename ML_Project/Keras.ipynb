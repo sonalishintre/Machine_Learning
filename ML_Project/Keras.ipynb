{
 "cells": [
  {
   "cell_type": "markdown",
   "metadata": {},
   "source": [
    "## KEARS\n",
    "Keras is a powerful easy to use Python library for developing and evaluating deep learning models.<br>\n",
    "Implemented simple keras model <br>"
   ]
  },
  {
   "cell_type": "code",
   "execution_count": 1,
   "metadata": {},
   "outputs": [
    {
     "name": "stderr",
     "output_type": "stream",
     "text": [
      "Using TensorFlow backend.\n"
     ]
    }
   ],
   "source": [
    "from keras.models import Sequential\n",
    "from keras.layers import Dense\n",
    "import numpy as np\n",
    "import csv\n",
    "from skimage.transform import resize\n",
    "from skimage.io import imread, imsave\n",
    "import warnings\n",
    "warnings.filterwarnings('ignore');"
   ]
  },
  {
   "cell_type": "markdown",
   "metadata": {},
   "source": [
    "### Load the data\n",
    "traing dataset and testing dataset is loaded along wiht the label data file<br>\n",
    "no of rows, cols, channel(rgb) is initiatization<br>\n",
    "here will resize the images\n"
   ]
  },
  {
   "cell_type": "code",
   "execution_count": 2,
   "metadata": {},
   "outputs": [],
   "source": [
    "def loadDataAndLabels(myDataDir):\n",
    "    imgFiles = []\n",
    "    myLabel = []\n",
    "    with open(myDataDir+'/aa-labels.csv','r') as fi:\n",
    "        reader =  csv.reader(fi)\n",
    "        ignoreHead = 0\n",
    "        for row in reader:\n",
    "            #print(row)\n",
    "            if len(row) > 0:\n",
    "                if ignoreHead == 0:\n",
    "                    ignoreHead = 1\n",
    "                else:\n",
    "                    imgFiles.append(row[0])\n",
    "                    myLabel.append(row[1])\n",
    "    fi.close()\n",
    "    num_ims = len(imgFiles)\n",
    "    num_rows = 100\n",
    "    num_cols = 100\n",
    "    num_chans = 3\n",
    "    resize_factor = 4\n",
    "    num_rows_resize = int(num_rows/resize_factor)\n",
    "    num_cols_resize = int(num_cols/resize_factor)\n",
    "    myDataNp = np.zeros((num_ims,num_rows_resize,num_cols_resize,num_chans))\n",
    "    myLabelNp = np.array(myLabel)\n",
    "    i = 0\n",
    "    for imgName in imgFiles:\n",
    "        img_data = resize(imread(myDataDir+\"/\"+imgName+\".jpg\"),(num_rows_resize,num_cols_resize),mode='constant')\n",
    "        myDataNp[i,:,:,:] = img_data[:,:,:]\n",
    "        if i % 1000 == 0:\n",
    "            print(i,\": loaded img - \", myDataDir,\"/\",imgName,\".jpg\")\n",
    "        i = i+1\n",
    "    myDataNp = myDataNp.reshape(num_ims,num_rows_resize*num_cols_resize*num_chans)\n",
    "    return(myDataNp,myLabelNp)"
   ]
  },
  {
   "cell_type": "code",
   "execution_count": 3,
   "metadata": {},
   "outputs": [
    {
     "name": "stdout",
     "output_type": "stream",
     "text": [
      "0 : loaded img -  C:/Users/sonali/Desktop/DS/ml/project_final/fruits/fruits-360/modTraining_medtraj1 / Apple Braeburn_0_100_f0 .jpg\n",
      "1000 : loaded img -  C:/Users/sonali/Desktop/DS/ml/project_final/fruits/fruits-360/modTraining_medtraj1 / Apple Golden 2_107_100_f7 .jpg\n",
      "2000 : loaded img -  C:/Users/sonali/Desktop/DS/ml/project_final/fruits/fruits-360/modTraining_medtraj1 / Apple Granny Smith_113_100_f1 .jpg\n",
      "3000 : loaded img -  C:/Users/sonali/Desktop/DS/ml/project_final/fruits/fruits-360/modTraining_medtraj1 / Apple Red 2_117_100_f3 .jpg\n",
      "4000 : loaded img -  C:/Users/sonali/Desktop/DS/ml/project_final/fruits/fruits-360/modTraining_medtraj1 / Apple Red Delicious_125_100_f2 .jpg\n",
      "5000 : loaded img -  C:/Users/sonali/Desktop/DS/ml/project_final/fruits/fruits-360/modTraining_medtraj1 / Apple Red Yellow 2_156_100_f7 .jpg\n",
      "6000 : loaded img -  C:/Users/sonali/Desktop/DS/ml/project_final/fruits/fruits-360/modTraining_medtraj1 / Avocado_136_100_f2 .jpg\n",
      "7000 : loaded img -  C:/Users/sonali/Desktop/DS/ml/project_final/fruits/fruits-360/modTraining_medtraj1 / Banana_157_100_f3 .jpg\n",
      "8000 : loaded img -  C:/Users/sonali/Desktop/DS/ml/project_final/fruits/fruits-360/modTraining_medtraj1 / Cactus fruit_106_100_f4 .jpg\n",
      "9000 : loaded img -  C:/Users/sonali/Desktop/DS/ml/project_final/fruits/fruits-360/modTraining_medtraj1 / Cantaloupe 2_110_100_f1 .jpg\n",
      "10000 : loaded img -  C:/Users/sonali/Desktop/DS/ml/project_final/fruits/fruits-360/modTraining_medtraj1 / Cherry 1_111_100_f8 .jpg\n",
      "11000 : loaded img -  C:/Users/sonali/Desktop/DS/ml/project_final/fruits/fruits-360/modTraining_medtraj1 / Cherry Rainier_14_100_f8 .jpg\n",
      "12000 : loaded img -  C:/Users/sonali/Desktop/DS/ml/project_final/fruits/fruits-360/modTraining_medtraj1 / Cherry Wax Red_123_100_f9 .jpg\n",
      "13000 : loaded img -  C:/Users/sonali/Desktop/DS/ml/project_final/fruits/fruits-360/modTraining_medtraj1 / Chestnut_148_100_f6 .jpg\n",
      "14000 : loaded img -  C:/Users/sonali/Desktop/DS/ml/project_final/fruits/fruits-360/modTraining_medtraj1 / Cocos_139_100_f0 .jpg\n",
      "15000 : loaded img -  C:/Users/sonali/Desktop/DS/ml/project_final/fruits/fruits-360/modTraining_medtraj1 / Granadilla_160_100_f2 .jpg\n",
      "16000 : loaded img -  C:/Users/sonali/Desktop/DS/ml/project_final/fruits/fruits-360/modTraining_medtraj1 / Grape White_100_100_f2 .jpg\n",
      "17000 : loaded img -  C:/Users/sonali/Desktop/DS/ml/project_final/fruits/fruits-360/modTraining_medtraj1 / Grape White 3_103_100_f6 .jpg\n",
      "18000 : loaded img -  C:/Users/sonali/Desktop/DS/ml/project_final/fruits/fruits-360/modTraining_medtraj1 / Grapefruit Pink_115_100_f4 .jpg\n",
      "19000 : loaded img -  C:/Users/sonali/Desktop/DS/ml/project_final/fruits/fruits-360/modTraining_medtraj1 / Guava_128_100_f2 .jpg\n",
      "20000 : loaded img -  C:/Users/sonali/Desktop/DS/ml/project_final/fruits/fruits-360/modTraining_medtraj1 / Huckleberry_124_100_f4 .jpg\n",
      "21000 : loaded img -  C:/Users/sonali/Desktop/DS/ml/project_final/fruits/fruits-360/modTraining_medtraj1 / Kiwi_118_100_f9 .jpg\n",
      "22000 : loaded img -  C:/Users/sonali/Desktop/DS/ml/project_final/fruits/fruits-360/modTraining_medtraj1 / Lemon_123_100_f4 .jpg\n",
      "23000 : loaded img -  C:/Users/sonali/Desktop/DS/ml/project_final/fruits/fruits-360/modTraining_medtraj1 / Limes_186_100_f4 .jpg\n",
      "24000 : loaded img -  C:/Users/sonali/Desktop/DS/ml/project_final/fruits/fruits-360/modTraining_medtraj1 / Mandarine_136_100_f4 .jpg\n",
      "25000 : loaded img -  C:/Users/sonali/Desktop/DS/ml/project_final/fruits/fruits-360/modTraining_medtraj1 / Mangostan_178_100_f4 .jpg\n",
      "26000 : loaded img -  C:/Users/sonali/Desktop/DS/ml/project_final/fruits/fruits-360/modTraining_medtraj1 / Mulberry_103_100_f1 .jpg\n",
      "27000 : loaded img -  C:/Users/sonali/Desktop/DS/ml/project_final/fruits/fruits-360/modTraining_medtraj1 / Orange_107_100_f3 .jpg\n",
      "28000 : loaded img -  C:/Users/sonali/Desktop/DS/ml/project_final/fruits/fruits-360/modTraining_medtraj1 / Passion Fruit_12_100_f0 .jpg\n",
      "29000 : loaded img -  C:/Users/sonali/Desktop/DS/ml/project_final/fruits/fruits-360/modTraining_medtraj1 / Peach 2_148_100_f1 .jpg\n",
      "30000 : loaded img -  C:/Users/sonali/Desktop/DS/ml/project_final/fruits/fruits-360/modTraining_medtraj1 / Pear_122_100_f8 .jpg\n",
      "31000 : loaded img -  C:/Users/sonali/Desktop/DS/ml/project_final/fruits/fruits-360/modTraining_medtraj1 / Pear Kaiser_132_100_f6 .jpg\n",
      "32000 : loaded img -  C:/Users/sonali/Desktop/DS/ml/project_final/fruits/fruits-360/modTraining_medtraj1 / Pear Williams_133_100_f3 .jpg\n",
      "33000 : loaded img -  C:/Users/sonali/Desktop/DS/ml/project_final/fruits/fruits-360/modTraining_medtraj1 / Physalis_148_100_f5 .jpg\n",
      "34000 : loaded img -  C:/Users/sonali/Desktop/DS/ml/project_final/fruits/fruits-360/modTraining_medtraj1 / Pineapple_139_100_f6 .jpg\n",
      "35000 : loaded img -  C:/Users/sonali/Desktop/DS/ml/project_final/fruits/fruits-360/modTraining_medtraj1 / Pitahaya Red_145_100_f4 .jpg\n",
      "36000 : loaded img -  C:/Users/sonali/Desktop/DS/ml/project_final/fruits/fruits-360/modTraining_medtraj1 / Plum 3_104_100_f7 .jpg\n",
      "37000 : loaded img -  C:/Users/sonali/Desktop/DS/ml/project_final/fruits/fruits-360/modTraining_medtraj1 / Pomelo Sweetie_113_100_f1 .jpg\n",
      "38000 : loaded img -  C:/Users/sonali/Desktop/DS/ml/project_final/fruits/fruits-360/modTraining_medtraj1 / Rambutan_115_100_f5 .jpg\n",
      "39000 : loaded img -  C:/Users/sonali/Desktop/DS/ml/project_final/fruits/fruits-360/modTraining_medtraj1 / Redcurrant_120_100_f7 .jpg\n",
      "40000 : loaded img -  C:/Users/sonali/Desktop/DS/ml/project_final/fruits/fruits-360/modTraining_medtraj1 / Strawberry_126_100_f6 .jpg\n",
      "41000 : loaded img -  C:/Users/sonali/Desktop/DS/ml/project_final/fruits/fruits-360/modTraining_medtraj1 / Tamarillo_132_100_f4 .jpg\n",
      "42000 : loaded img -  C:/Users/sonali/Desktop/DS/ml/project_final/fruits/fruits-360/modTraining_medtraj1 / Tomato 1_137_100_f3 .jpg\n",
      "43000 : loaded img -  C:/Users/sonali/Desktop/DS/ml/project_final/fruits/fruits-360/modTraining_medtraj1 / Tomato 3_145_100_f4 .jpg\n",
      "44000 : loaded img -  C:/Users/sonali/Desktop/DS/ml/project_final/fruits/fruits-360/modTraining_medtraj1 / Tomato Cherry Red_140_100_f10 .jpg\n"
     ]
    }
   ],
   "source": [
    "training_data = 'C:/Users/sonali/Desktop/DS/ml/project_final/fruits/fruits-360/modTraining_medtraj1'\n",
    "# Load the training set\n",
    "(X_train,y_train) = loadDataAndLabels(training_data)"
   ]
  },
  {
   "cell_type": "code",
   "execution_count": 4,
   "metadata": {},
   "outputs": [
    {
     "name": "stdout",
     "output_type": "stream",
     "text": [
      "0 : loaded img -  C:/Users/sonali/Desktop/DS/ml/project_final/fruits/fruits-360/modTest_medtraj1 / Apple Braeburn_321_100_f0 .jpg\n",
      "1000 : loaded img -  C:/Users/sonali/Desktop/DS/ml/project_final/fruits/fruits-360/modTest_medtraj1 / Apple Red Yellow 2_112_100_f4 .jpg\n",
      "2000 : loaded img -  C:/Users/sonali/Desktop/DS/ml/project_final/fruits/fruits-360/modTest_medtraj1 / Carambula_146_100_f8 .jpg\n",
      "3000 : loaded img -  C:/Users/sonali/Desktop/DS/ml/project_final/fruits/fruits-360/modTest_medtraj1 / Granadilla_105_100_f0 .jpg\n",
      "4000 : loaded img -  C:/Users/sonali/Desktop/DS/ml/project_final/fruits/fruits-360/modTest_medtraj1 / Huckleberry_100_100_f11 .jpg\n",
      "5000 : loaded img -  C:/Users/sonali/Desktop/DS/ml/project_final/fruits/fruits-360/modTest_medtraj1 / Mangostan_132_100_f6 .jpg\n",
      "6000 : loaded img -  C:/Users/sonali/Desktop/DS/ml/project_final/fruits/fruits-360/modTest_medtraj1 / Pear_322_100_f1 .jpg\n",
      "7000 : loaded img -  C:/Users/sonali/Desktop/DS/ml/project_final/fruits/fruits-360/modTest_medtraj1 / Pitahaya Red_183_100_f0 .jpg\n",
      "8000 : loaded img -  C:/Users/sonali/Desktop/DS/ml/project_final/fruits/fruits-360/modTest_medtraj1 / Strawberry_322_100_f7 .jpg\n",
      "9000 : loaded img -  C:/Users/sonali/Desktop/DS/ml/project_final/fruits/fruits-360/modTest_medtraj1 / Walnut_105_100_f5 .jpg\n"
     ]
    }
   ],
   "source": [
    "testing_data = 'C:/Users/sonali/Desktop/DS/ml/project_final/fruits/fruits-360/modTest_medtraj1'\n",
    "# Load the test set\n",
    "(X_test,y_test) = loadDataAndLabels(testing_data)"
   ]
  },
  {
   "cell_type": "markdown",
   "metadata": {},
   "source": [
    "check the no of rows and columns in training and testing datasets which is used to inpudt values to the keras layer"
   ]
  },
  {
   "cell_type": "code",
   "execution_count": 5,
   "metadata": {},
   "outputs": [
    {
     "name": "stdout",
     "output_type": "stream",
     "text": [
      "training datasets:\n",
      " Rows: 44994,  Columns: 1875\n",
      "testing datasets:\n",
      " Rows: 9053,  Columns: 1875\n"
     ]
    }
   ],
   "source": [
    "#shape of the file\n",
    "print('training datasets:\\n Rows: %d,  Columns: %d' %(X_train.shape[0], X_train.shape[1]))\n",
    "print('testing datasets:\\n Rows: %d,  Columns: %d' %(X_test.shape[0], X_test.shape[1]))"
   ]
  },
  {
   "cell_type": "code",
   "execution_count": 6,
   "metadata": {},
   "outputs": [
    {
     "name": "stdout",
     "output_type": "stream",
     "text": [
      "(44994, 1875) (44994,)\n",
      "(9053, 1875) (9053,)\n"
     ]
    }
   ],
   "source": [
    "#avy and std of the images in training and testing dataset\n",
    "mean_vals = np.mean(X_train, axis=0)\n",
    "std_val = np.std(X_train)\n",
    "\n",
    "X_train = (X_train - mean_vals)/std_val\n",
    "X_test = (X_test - mean_vals)/std_val\n",
    "  \n",
    "print(X_train.shape, y_train.shape)\n",
    "print(X_test.shape, y_test.shape)"
   ]
  },
  {
   "cell_type": "markdown",
   "metadata": {},
   "source": [
    "### Define the model\n",
    "create a Sequential model and add layers, set the  input parameter to 1875 as per the no of cols.<br>\n",
    "Fully connected layers are defined using the Dense class. \n",
    "* first argument will be no of neurons in the layer\n",
    "* the initialization method as the second argument as init and the activation function \n",
    "* network weights are in between 0 and 0.05 because that is the default uniform weight initialization in Keras. \n",
    "* relu activation function on the first two layers and the sigmoid function in the output layer.\n",
    "* The first layer has 100 neurons and expects 1875 input variables. \n",
    "* The second hidden layer has 50 neurons  and third 20 neurons\n",
    "* the output layer has 1 neuron for predication"
   ]
  },
  {
   "cell_type": "code",
   "execution_count": 33,
   "metadata": {},
   "outputs": [],
   "source": [
    "np.random.seed(7)\n",
    "# create model\n",
    "model = Sequential()\n",
    "model.add(Dense(100, input_dim=1875, activation='relu'))\n",
    "model.add(Dense(50, activation='relu'))\n",
    "model.add(Dense(20, activation='relu'))\n",
    "model.add(Dense(1, activation='sigmoid'))"
   ]
  },
  {
   "cell_type": "markdown",
   "metadata": {},
   "source": [
    "### complie the model\n",
    "* here We must specify the loss function to use to evaluate a set of weights, \n",
    "* the optimizer is used to search through different weights for the network\n",
    "* I have used loss as binary_crossentropy. \n",
    "* optimizer as adam\n"
   ]
  },
  {
   "cell_type": "code",
   "execution_count": 34,
   "metadata": {},
   "outputs": [],
   "source": [
    "# Compile model\n",
    "model.compile(loss='binary_crossentropy', optimizer='adam', metrics=['accuracy'])"
   ]
  },
  {
   "cell_type": "markdown",
   "metadata": {},
   "source": [
    "### fit the model\n",
    "her we need difinf the no od epochs and batch_size"
   ]
  },
  {
   "cell_type": "code",
   "execution_count": 31,
   "metadata": {},
   "outputs": [
    {
     "name": "stdout",
     "output_type": "stream",
     "text": [
      "Epoch 1/20\n",
      "44994/44994 [==============================] - 17s 370us/step - loss: -12.5139 - acc: 0.3850\n",
      "Epoch 2/20\n",
      "44994/44994 [==============================] - 16s 347us/step - loss: -13.0558 - acc: 0.4171\n",
      "Epoch 3/20\n",
      "44994/44994 [==============================] - 13s 289us/step - loss: -13.1910 - acc: 0.4255\n",
      "Epoch 4/20\n",
      "44994/44994 [==============================] - 14s 312us/step - loss: -13.2709 - acc: 0.4317\n",
      "Epoch 5/20\n",
      "44994/44994 [==============================] - 15s 343us/step - loss: -13.3220 - acc: 0.4351\n",
      "Epoch 6/20\n",
      "44994/44994 [==============================] - 16s 354us/step - loss: -13.3730 - acc: 0.4376\n",
      "Epoch 7/20\n",
      "44994/44994 [==============================] - 16s 362us/step - loss: -13.4084 - acc: 0.4403\n",
      "Epoch 8/20\n",
      "44994/44994 [==============================] - 16s 359us/step - loss: -13.4294 - acc: 0.4401\n",
      "Epoch 9/20\n",
      "44994/44994 [==============================] - 16s 356us/step - loss: -13.4564 - acc: 0.4425\n",
      "Epoch 10/20\n",
      "44994/44994 [==============================] - 16s 366us/step - loss: -13.4678 - acc: 0.4427\n",
      "Epoch 11/20\n",
      "44994/44994 [==============================] - 17s 367us/step - loss: -13.4872 - acc: 0.4457\n",
      "Epoch 12/20\n",
      "44994/44994 [==============================] - 14s 317us/step - loss: -13.4838 - acc: 0.4456\n",
      "Epoch 13/20\n",
      "44994/44994 [==============================] - 15s 342us/step - loss: -13.5087 - acc: 0.4467\n",
      "Epoch 14/20\n",
      "44994/44994 [==============================] - 16s 362us/step - loss: -13.5302 - acc: 0.4462\n",
      "Epoch 15/20\n",
      "44994/44994 [==============================] - 16s 364us/step - loss: -13.5307 - acc: 0.4469\n",
      "Epoch 16/20\n",
      "44994/44994 [==============================] - 17s 369us/step - loss: -13.5333 - acc: 0.4476\n",
      "Epoch 17/20\n",
      "44994/44994 [==============================] - 16s 356us/step - loss: -13.5692 - acc: 0.4497\n",
      "Epoch 18/20\n",
      "44994/44994 [==============================] - 16s 357us/step - loss: -13.5354 - acc: 0.4493\n",
      "Epoch 19/20\n",
      "44994/44994 [==============================] - 14s 307us/step - loss: -13.5612 - acc: 0.4491\n",
      "Epoch 20/20\n",
      "44994/44994 [==============================] - 16s 365us/step - loss: -13.5902 - acc: 0.4498\n"
     ]
    },
    {
     "data": {
      "text/plain": [
       "<keras.callbacks.History at 0x20d67e98f28>"
      ]
     },
     "execution_count": 31,
     "metadata": {},
     "output_type": "execute_result"
    }
   ],
   "source": [
    "# Fit the model\n",
    "model.fit(X_train, y_train, epochs=20, batch_size=10)"
   ]
  },
  {
   "cell_type": "markdown",
   "metadata": {},
   "source": [
    "### model evaluation\n",
    "generate the  prediction for each input and output pair and collect scores, \n",
    "including the average loss and  accuracy."
   ]
  },
  {
   "cell_type": "code",
   "execution_count": 32,
   "metadata": {},
   "outputs": [
    {
     "name": "stdout",
     "output_type": "stream",
     "text": [
      "44994/44994 [==============================] - 2s 41us/step\n",
      "\n",
      "acc: 45.30%\n"
     ]
    }
   ],
   "source": [
    "# evaluate the model\n",
    "scores = model.evaluate(X_train, y_train)\n",
    "print(\"\\n%s: %.2f%%\" % (model.metrics_names[1], scores[1]*100))"
   ]
  },
  {
   "cell_type": "code",
   "execution_count": null,
   "metadata": {},
   "outputs": [],
   "source": []
  }
 ],
 "metadata": {
  "kernelspec": {
   "display_name": "Python 3",
   "language": "python",
   "name": "python3"
  },
  "language_info": {
   "codemirror_mode": {
    "name": "ipython",
    "version": 3
   },
   "file_extension": ".py",
   "mimetype": "text/x-python",
   "name": "python",
   "nbconvert_exporter": "python",
   "pygments_lexer": "ipython3",
   "version": "3.6.8"
  }
 },
 "nbformat": 4,
 "nbformat_minor": 2
}
