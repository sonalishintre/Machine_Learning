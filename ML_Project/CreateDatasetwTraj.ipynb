{
 "cells": [
  {
   "cell_type": "markdown",
   "metadata": {},
   "source": [
    "# Trajectory\n",
    "here we are going to add the black box to each image with is randomly placed and move it from the left to right, specify the direction to it and the speed slow, fast medium"
   ]
  },
  {
   "cell_type": "code",
   "execution_count": 1,
   "metadata": {},
   "outputs": [],
   "source": [
    "import sys\n",
    "import numpy as np\n",
    "import os\n",
    "import os.path as op\n",
    "import re\n",
    "import pandas as pd\n",
    "import imageio\n",
    "from matplotlib import pyplot as plt\n",
    "from sklearn.decomposition import PCA\n",
    "from sklearn.decomposition import FastICA\n",
    "from sklearn.preprocessing import StandardScaler\n",
    "from sklearn.preprocessing import MinMaxScaler\n",
    "from sklearn.discriminant_analysis import LinearDiscriminantAnalysis as LDA\n",
    "from sklearn.decomposition import KernelPCA\n",
    "from sklearn.model_selection import train_test_split\n",
    "from sklearn.manifold import TSNE\n",
    "from sklearn.ensemble import RandomForestClassifier\n",
    "import seaborn as sns\n",
    "from sklearn.metrics import classification_report, accuracy_score\n",
    "import datetime\n",
    "from PIL import Image\n",
    "from itertools import chain\n",
    "import csv\n",
    "import random\n",
    "from skimage.io import imread, imsave\n",
    "from skimage.transform import resize\n",
    "import math\n",
    "\n",
    "import warnings;\n",
    "warnings.filterwarnings('ignore');\n",
    "\n",
    "plt.style.use('ggplot')\n",
    "%matplotlib inline"
   ]
  },
  {
   "cell_type": "code",
   "execution_count": 2,
   "metadata": {},
   "outputs": [],
   "source": [
    "#orginal data anf the modifeid data set\n",
    "TR_DATA_DIR = 'C:/Users/sonali/Desktop/DS/ml/project_final/fruits/fruits-360/Training'\n",
    "TR_OUT_DATA_DIR = 'C:/Users/sonali/Desktop/DS/ml/project_final/fruits/fruits-360/modTraining_medtraj1'\n",
    "\n",
    "tr_modDataExists = op.exists(TR_OUT_DATA_DIR)\n",
    "    \n",
    "if not tr_modDataExists:\n",
    "    os.makedirs(TR_OUT_DATA_DIR) \n",
    "    \n",
    "tr_maxCountPerCategory = 50"
   ]
  },
  {
   "cell_type": "code",
   "execution_count": 3,
   "metadata": {},
   "outputs": [],
   "source": [
    "#testing dataset\n",
    "TE_DATA_DIR = 'C:/Users/sonali/Desktop/DS/ml/project_final/fruits/fruits-360/Test'\n",
    "TE_OUT_DATA_DIR = 'C:/Users/sonali/Desktop/DS/ml/project_final/fruits/fruits-360/modTest_medtraj1'\n",
    "\n",
    "te_modDataExists = op.exists(TE_OUT_DATA_DIR)\n",
    "    \n",
    "if not te_modDataExists:\n",
    "    os.makedirs(TE_OUT_DATA_DIR) \n",
    "    \n",
    "te_maxCountPerCategory = 10"
   ]
  },
  {
   "cell_type": "markdown",
   "metadata": {},
   "source": [
    " generate the black box and move it randomly on the image having random size "
   ]
  },
  {
   "cell_type": "code",
   "execution_count": 4,
   "metadata": {},
   "outputs": [],
   "source": [
    "def overlap1d(ipos,bpos,isize,bsize):\n",
    "    iepos = ipos+isize-1\n",
    "    bepos = bpos+bsize-1\n",
    "    A = bpos-ipos\n",
    "    B = bepos-iepos\n",
    "    if A < 0:\n",
    "        A = 0\n",
    "    elif A > isize:\n",
    "        A = isize\n",
    "    if B > 0:\n",
    "        B = 0\n",
    "    elif B < -1 * isize:\n",
    "        B = -1 * isize\n",
    "    olap = isize - (A-B)   \n",
    "    return olap"
   ]
  },
  {
   "cell_type": "markdown",
   "metadata": {},
   "source": [
    "here we  have to generate random image size X-axis=ix and y-axis=iy, width= iw and height= ih <br>\n",
    "and the black box sixe xaxis=bx, yaxis=by, width=bw and height= bh <br>\n",
    "we can stor this vlaues as label data in one folder called aa-label.csv"
   ]
  },
  {
   "cell_type": "code",
   "execution_count": 5,
   "metadata": {},
   "outputs": [],
   "source": [
    "def createModData(myDataDir, myModDataDir, maxCountPerCategory):\n",
    "    scaleChoices = [1.5,1.75,2,2.5]\n",
    "    csvData = [['Image','label','overlap','ix','iy','iw','ih','bx','by','bw','bh']]\n",
    "    count = 0\n",
    "    foldernames = os.listdir(myDataDir)\n",
    "    for folder in foldernames:\n",
    "        filenames = os.listdir(myDataDir+\"/\"+folder)\n",
    "        countPerCategory = 0\n",
    "        for filename in filenames:\n",
    "            fileprefix = filename.split(\".\")\n",
    "            if len(fileprefix) == 2:\n",
    "                if fileprefix[1] == \"jpg\":\n",
    "                    out_img_name_prefix = folder+\"_\"+fileprefix[0]+\"_f\"\n",
    "                    # randomly decide size..\n",
    "                    myScale = scaleChoices[random.randrange(0,len(scaleChoices))]\n",
    "                    myXSize = int(100 / myScale)\n",
    "                    myYSize = int(100 / myScale)\n",
    "                    myXpos = random.randrange(0,100-myXSize)\n",
    "                    myYpos = random.randrange(0,100-myYSize)\n",
    "                    myNewImg = np.full((100,100, 3), 1.0)\n",
    "                    img_n = imread(myDataDir+\"/\"+folder+\"/\"+filename)\n",
    "                    img_scaled = resize(img_n,(myYSize,myXSize))\n",
    "                    myNewImg[myYpos:myYpos+myYSize,myXpos:myXpos+myXSize,:] = img_scaled[:,:,:]\n",
    "                    minBoxXSize = int(100 / 20)\n",
    "                    minBoxYSize = int(100 / 20)\n",
    "                    h = random.randrange(5,15)*minBoxYSize\n",
    "                    w = random.randrange(5,15)*minBoxXSize\n",
    "                    myAngle = random.randrange(-45,45,5)\n",
    "                    # create frames.. \n",
    "                    #frameStep = 10\n",
    "                    frameStep = random.randrange(8,14)\n",
    "                    for n in range(0,int(100/frameStep)):\n",
    "                        img_n = np.copy(myNewImg)\n",
    "                        \n",
    "                        # Generate box co-ordinates\n",
    "                        bx = n*frameStep\n",
    "                        by = int(50 - ((bx-50)*math.tan(math.radians(myAngle))))\n",
    "                        modw = min(w,100-bx)\n",
    "                        modh = min(h,100-by)\n",
    "                        myBox = np.full((modh,modw, 3), 0.0)\n",
    "                        #print(myAngle,bx,by,modw,modh)\n",
    "                        img_n[by:by+modh,bx:bx+modw,:] = myBox[:,:,:]\n",
    "                        imsave(myModDataDir+\"/\"+out_img_name_prefix+str(n)+\".jpg\",img_n)\n",
    "                        \n",
    "                        # Finding overlap\n",
    "                        X_overlap = overlap1d(myXpos,bx,myXSize,modw)\n",
    "                        Y_overlap = overlap1d(myYpos,by,myYSize,modh)\n",
    "                        total_overlap = int(((X_overlap * Y_overlap)/(myXSize*myYSize))*100)\n",
    "                        levels = 5\n",
    "                        split = 0\n",
    "                        for i in range(1,levels):\n",
    "                            if total_overlap > int(100/2**i):\n",
    "                                split = i\n",
    "                                break\n",
    "                        if split == 0:\n",
    "                            split = levels\n",
    "                        total_overlap_round = levels - split\n",
    "                        #gran = 100/levels\n",
    "                        #offset = gran/2\n",
    "                        #total_overlap_round = int((total_overlap+offset)/gran)\n",
    "                        #total_overlap_round = round(total_overlap,1)*10\n",
    "                        csvData.append([out_img_name_prefix+str(n),total_overlap_round,total_overlap,myXpos,myYpos,myXSize,myYSize,bx,by,modw,modh])\n",
    "                    if count % 100 == 0:\n",
    "                        print(count,\": saved img - \", folder,\"/\",filename)\n",
    "                    count = count + 1\n",
    "                    countPerCategory = countPerCategory + 1 \n",
    "                else:\n",
    "                    print(\"Ignored (extension not jpg) file: \", folder,\"/\",filename)\n",
    "            else:\n",
    "                print(\"Ignored (undefined file prefix) file: \", folder,\"/\",filename)\n",
    "            if countPerCategory == maxCountPerCategory:\n",
    "                break\n",
    "    with open(myModDataDir+\"/aa-labels.csv\", 'w') as csvFile:\n",
    "        writer = csv.writer(csvFile)\n",
    "        for line in csvData:\n",
    "            writer.writerow(line)\n",
    "    csvFile.close()"
   ]
  },
  {
   "cell_type": "code",
   "execution_count": 6,
   "metadata": {},
   "outputs": [
    {
     "name": "stdout",
     "output_type": "stream",
     "text": [
      "0 : saved img -  Apple Braeburn / 0_100.jpg\n",
      "100 : saved img -  Apple Golden 2 / 0_100.jpg\n",
      "200 : saved img -  Apple Granny Smith / 0_100.jpg\n",
      "300 : saved img -  Apple Red 2 / 0_100.jpg\n",
      "400 : saved img -  Apple Red Delicious / 100_100.jpg\n",
      "500 : saved img -  Apple Red Yellow 2 / 0_100.jpg\n",
      "600 : saved img -  Avocado / 0_100.jpg\n",
      "700 : saved img -  Banana / 0_100.jpg\n",
      "800 : saved img -  Banana Red / 0_100.jpg\n",
      "900 : saved img -  Cantaloupe 1 / 0_100.jpg\n",
      "1000 : saved img -  Carambula / 0_100.jpg\n",
      "1100 : saved img -  Cherry 2 / 105_100.jpg\n",
      "1200 : saved img -  Cherry Wax Black / 0_100.jpg\n",
      "1300 : saved img -  Cherry Wax Yellow / 0_100.jpg\n",
      "1400 : saved img -  Clementine / 10_100.jpg\n",
      "1500 : saved img -  Dates / 0_100.jpg\n",
      "1600 : saved img -  Grape Blue / 0_100.jpg\n",
      "1700 : saved img -  Grape White / 0_100.jpg\n",
      "1800 : saved img -  Grape White 3 / 0_100.jpg\n",
      "1900 : saved img -  Grapefruit Pink / 0_100.jpg\n",
      "2000 : saved img -  Guava / 0_100.jpg\n",
      "2100 : saved img -  Huckleberry / 104_100.jpg\n",
      "2200 : saved img -  Kiwi / 0_100.jpg\n",
      "2300 : saved img -  Lemon / 0_100.jpg\n",
      "2400 : saved img -  Limes / 0_100.jpg\n",
      "2500 : saved img -  Mandarine / 0_100.jpg\n",
      "2600 : saved img -  Mangostan / 0_100.jpg\n",
      "2700 : saved img -  Melon Piel de Sapo / 100_100.jpg\n",
      "2800 : saved img -  Nectarine / 0_100.jpg\n",
      "2900 : saved img -  Papaya / 0_100.jpg\n",
      "3000 : saved img -  Peach / 0_100.jpg\n",
      "3100 : saved img -  Peach Flat / 0_100.jpg\n",
      "3200 : saved img -  Pear Abate / 100_100.jpg\n",
      "3300 : saved img -  Pear Monster / 0_100.jpg\n",
      "3400 : saved img -  Pepino / 0_100.jpg\n",
      "3500 : saved img -  Physalis with Husk / 0_100.jpg\n",
      "3600 : saved img -  Pineapple Mini / 100_100.jpg\n",
      "3700 : saved img -  Plum / 0_100.jpg\n",
      "3800 : saved img -  Plum 3 / 0_100.jpg\n",
      "3900 : saved img -  Pomelo Sweetie / 0_100.jpg\n",
      "4000 : saved img -  Rambutan / 0_100.jpg\n",
      "4100 : saved img -  Redcurrant / 0_100.jpg\n",
      "4200 : saved img -  Strawberry / 0_100.jpg\n",
      "4300 : saved img -  Tamarillo / 0_100.jpg\n",
      "4400 : saved img -  Tomato 1 / 0_100.jpg\n",
      "4500 : saved img -  Tomato 3 / 100_100.jpg\n",
      "4600 : saved img -  Tomato Cherry Red / 0_100.jpg\n",
      "4700 : saved img -  Walnut / 0_100.jpg\n"
     ]
    }
   ],
   "source": [
    "createModData(TR_DATA_DIR, TR_OUT_DATA_DIR, tr_maxCountPerCategory)"
   ]
  },
  {
   "cell_type": "code",
   "execution_count": 7,
   "metadata": {},
   "outputs": [
    {
     "name": "stdout",
     "output_type": "stream",
     "text": [
      "0 : saved img -  Apple Braeburn / 321_100.jpg\n",
      "100 : saved img -  Apple Red Yellow 2 / 106_100.jpg\n",
      "200 : saved img -  Carambula / 101_100.jpg\n",
      "300 : saved img -  Dates / 100_100.jpg\n",
      "400 : saved img -  Guava / 100_100.jpg\n",
      "500 : saved img -  Mandarine / 147_100.jpg\n",
      "600 : saved img -  Peach / 321_100.jpg\n",
      "700 : saved img -  Physalis with Husk / 11_100.jpg\n",
      "800 : saved img -  Rambutan / 128_100.jpg\n",
      "900 : saved img -  Tomato 3 / 0_100.jpg\n"
     ]
    }
   ],
   "source": [
    "createModData(TE_DATA_DIR, TE_OUT_DATA_DIR, te_maxCountPerCategory)"
   ]
  },
  {
   "cell_type": "code",
   "execution_count": null,
   "metadata": {},
   "outputs": [],
   "source": []
  }
 ],
 "metadata": {
  "kernelspec": {
   "display_name": "Python 3",
   "language": "python",
   "name": "python3"
  },
  "language_info": {
   "codemirror_mode": {
    "name": "ipython",
    "version": 3
   },
   "file_extension": ".py",
   "mimetype": "text/x-python",
   "name": "python",
   "nbconvert_exporter": "python",
   "pygments_lexer": "ipython3",
   "version": "3.6.8"
  }
 },
 "nbformat": 4,
 "nbformat_minor": 2
}
