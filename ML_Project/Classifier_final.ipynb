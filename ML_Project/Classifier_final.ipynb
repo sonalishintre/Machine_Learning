{
 "cells": [
  {
   "cell_type": "markdown",
   "metadata": {},
   "source": [
    "## Classifier\n",
    "load all the libraries\n"
   ]
  },
  {
   "cell_type": "code",
   "execution_count": 47,
   "metadata": {},
   "outputs": [],
   "source": [
    "import sys\n",
    "import numpy as np\n",
    "import os\n",
    "import os.path as op\n",
    "import re\n",
    "import pandas as pd\n",
    "import imageio\n",
    "from skimage.io import imread, imsave\n",
    "from skimage.transform import resize\n",
    "from matplotlib import pyplot as plt\n",
    "from sklearn.linear_model import LinearRegression,LogisticRegression\n",
    "from sklearn.decomposition import KernelPCA\n",
    "from sklearn.model_selection import train_test_split\n",
    "from sklearn.manifold import TSNE\n",
    "from sklearn.ensemble import RandomForestClassifier\n",
    "import seaborn as sns\n",
    "from sklearn.metrics import accuracy_score, f1_score, precision_score, recall_score\n",
    "import datetime\n",
    "from PIL import Image\n",
    "from itertools import chain\n",
    "import csv\n",
    "import random\n",
    "import pickle\n",
    "\n",
    "import warnings\n",
    "warnings.filterwarnings('ignore');\n",
    "from sklearn.naive_bayes import GaussianNB\n",
    "from sklearn.ensemble import BaggingClassifier\n",
    "from sklearn.ensemble import AdaBoostClassifier\n",
    "from sklearn.ensemble import GradientBoostingClassifier\n",
    "from sklearn.ensemble import RandomForestClassifier\n",
    "from sklearn.ensemble import VotingClassifier\n",
    "from sklearn.neighbors import KNeighborsClassifier\n",
    "from sklearn.model_selection import cross_val_score\n",
    "from sklearn.tree import DecisionTreeClassifier\n",
    "\n",
    "from sklearn.svm import SVC\n",
    "from sklearn.metrics import confusion_matrix\n",
    "\n",
    "plt.style.use('ggplot')\n",
    "%matplotlib inline"
   ]
  },
  {
   "cell_type": "markdown",
   "metadata": {},
   "source": [
    "define the function for evalation of the different Ml algorthim to check the accurauy and metrics of the dataset.<br>\n",
    "load the data that was generate using the black box and the label file into one director having trainig and test \n",
    "data with labels"
   ]
  },
  {
   "cell_type": "code",
   "execution_count": 28,
   "metadata": {},
   "outputs": [],
   "source": [
    "def evaluate_classifier(clf, X_test, y_test):\n",
    "    y_pred_test = clf.predict(X_test)\n",
    "    print(\"accuracy_score on test fit:\",accuracy_score(y_test, y_pred_test))\n",
    "    cm = confusion_matrix(y_test, y_pred_test)\n",
    "    #cm = cm.astype('float') / cm.sum(axis=1)[:, np.newaxis]\n",
    "    print(\"confusion matrix\")\n",
    "    print(cm)"
   ]
  },
  {
   "cell_type": "code",
   "execution_count": 22,
   "metadata": {},
   "outputs": [],
   "source": [
    "#define the function loadDataAndLabels in to file\n",
    "def loadDataAndLabels(myDataDir):\n",
    "    imgFiles = []\n",
    "    myLabel = []\n",
    "    with open(myDataDir+'/aa-labels.csv','r') as fi:\n",
    "        reader =  csv.reader(fi)\n",
    "        ignoreHead = 0\n",
    "        for row in reader:\n",
    "            #print(row)\n",
    "            if len(row) > 0:\n",
    "                if ignoreHead == 0:\n",
    "                    ignoreHead = 1\n",
    "                else:\n",
    "                    imgFiles.append(row[0])\n",
    "                    myLabel.append(row[1])\n",
    "    fi.close()\n",
    "    num_ims = len(imgFiles)\n",
    "    num_rows = 100\n",
    "    num_cols = 100\n",
    "    num_chans = 3\n",
    "    resize_factor = 4\n",
    "    #resize\n",
    "    num_rows_resize = int(num_rows/resize_factor)\n",
    "    num_cols_resize = int(num_cols/resize_factor)\n",
    "    myDataNp = np.zeros((num_ims,num_rows_resize,num_cols_resize,num_chans))\n",
    "    myLabelNp = np.array(myLabel)\n",
    "    i = 0\n",
    "    for imgName in imgFiles:\n",
    "        img_data = resize(imread(myDataDir+\"/\"+imgName+\".jpg\"),(num_rows_resize,num_cols_resize),mode='constant')\n",
    "        myDataNp[i,:,:,:] = img_data[:,:,:]\n",
    "        if i % 1000 == 0:\n",
    "            print(i,\": loaded img - \", myDataDir,\"/\",imgName,\".jpg\")\n",
    "        i = i+1\n",
    "    #reshape\n",
    "    myDataNp = myDataNp.reshape(num_ims,num_rows_resize*num_cols_resize*num_chans)\n",
    "    return(myDataNp,myLabelNp)"
   ]
  },
  {
   "cell_type": "code",
   "execution_count": 23,
   "metadata": {},
   "outputs": [
    {
     "name": "stdout",
     "output_type": "stream",
     "text": [
      "0 : loaded img -  C:/Users/sonali/Desktop/DS/ml/project_final/fruits/fruits-360/modTraining_medtraj1 / Apple Braeburn_0_100_f0 .jpg\n",
      "1000 : loaded img -  C:/Users/sonali/Desktop/DS/ml/project_final/fruits/fruits-360/modTraining_medtraj1 / Apple Golden 2_107_100_f7 .jpg\n",
      "2000 : loaded img -  C:/Users/sonali/Desktop/DS/ml/project_final/fruits/fruits-360/modTraining_medtraj1 / Apple Granny Smith_113_100_f1 .jpg\n",
      "3000 : loaded img -  C:/Users/sonali/Desktop/DS/ml/project_final/fruits/fruits-360/modTraining_medtraj1 / Apple Red 2_117_100_f3 .jpg\n",
      "4000 : loaded img -  C:/Users/sonali/Desktop/DS/ml/project_final/fruits/fruits-360/modTraining_medtraj1 / Apple Red Delicious_125_100_f2 .jpg\n",
      "5000 : loaded img -  C:/Users/sonali/Desktop/DS/ml/project_final/fruits/fruits-360/modTraining_medtraj1 / Apple Red Yellow 2_156_100_f7 .jpg\n",
      "6000 : loaded img -  C:/Users/sonali/Desktop/DS/ml/project_final/fruits/fruits-360/modTraining_medtraj1 / Avocado_136_100_f2 .jpg\n",
      "7000 : loaded img -  C:/Users/sonali/Desktop/DS/ml/project_final/fruits/fruits-360/modTraining_medtraj1 / Banana_157_100_f3 .jpg\n",
      "8000 : loaded img -  C:/Users/sonali/Desktop/DS/ml/project_final/fruits/fruits-360/modTraining_medtraj1 / Cactus fruit_106_100_f4 .jpg\n",
      "9000 : loaded img -  C:/Users/sonali/Desktop/DS/ml/project_final/fruits/fruits-360/modTraining_medtraj1 / Cantaloupe 2_110_100_f1 .jpg\n",
      "10000 : loaded img -  C:/Users/sonali/Desktop/DS/ml/project_final/fruits/fruits-360/modTraining_medtraj1 / Cherry 1_111_100_f8 .jpg\n",
      "11000 : loaded img -  C:/Users/sonali/Desktop/DS/ml/project_final/fruits/fruits-360/modTraining_medtraj1 / Cherry Rainier_14_100_f8 .jpg\n",
      "12000 : loaded img -  C:/Users/sonali/Desktop/DS/ml/project_final/fruits/fruits-360/modTraining_medtraj1 / Cherry Wax Red_123_100_f9 .jpg\n",
      "13000 : loaded img -  C:/Users/sonali/Desktop/DS/ml/project_final/fruits/fruits-360/modTraining_medtraj1 / Chestnut_148_100_f6 .jpg\n",
      "14000 : loaded img -  C:/Users/sonali/Desktop/DS/ml/project_final/fruits/fruits-360/modTraining_medtraj1 / Cocos_139_100_f0 .jpg\n",
      "15000 : loaded img -  C:/Users/sonali/Desktop/DS/ml/project_final/fruits/fruits-360/modTraining_medtraj1 / Granadilla_160_100_f2 .jpg\n",
      "16000 : loaded img -  C:/Users/sonali/Desktop/DS/ml/project_final/fruits/fruits-360/modTraining_medtraj1 / Grape White_100_100_f2 .jpg\n",
      "17000 : loaded img -  C:/Users/sonali/Desktop/DS/ml/project_final/fruits/fruits-360/modTraining_medtraj1 / Grape White 3_103_100_f6 .jpg\n",
      "18000 : loaded img -  C:/Users/sonali/Desktop/DS/ml/project_final/fruits/fruits-360/modTraining_medtraj1 / Grapefruit Pink_115_100_f4 .jpg\n",
      "19000 : loaded img -  C:/Users/sonali/Desktop/DS/ml/project_final/fruits/fruits-360/modTraining_medtraj1 / Guava_128_100_f2 .jpg\n",
      "20000 : loaded img -  C:/Users/sonali/Desktop/DS/ml/project_final/fruits/fruits-360/modTraining_medtraj1 / Huckleberry_124_100_f4 .jpg\n",
      "21000 : loaded img -  C:/Users/sonali/Desktop/DS/ml/project_final/fruits/fruits-360/modTraining_medtraj1 / Kiwi_118_100_f9 .jpg\n",
      "22000 : loaded img -  C:/Users/sonali/Desktop/DS/ml/project_final/fruits/fruits-360/modTraining_medtraj1 / Lemon_123_100_f4 .jpg\n",
      "23000 : loaded img -  C:/Users/sonali/Desktop/DS/ml/project_final/fruits/fruits-360/modTraining_medtraj1 / Limes_186_100_f4 .jpg\n",
      "24000 : loaded img -  C:/Users/sonali/Desktop/DS/ml/project_final/fruits/fruits-360/modTraining_medtraj1 / Mandarine_136_100_f4 .jpg\n",
      "25000 : loaded img -  C:/Users/sonali/Desktop/DS/ml/project_final/fruits/fruits-360/modTraining_medtraj1 / Mangostan_178_100_f4 .jpg\n",
      "26000 : loaded img -  C:/Users/sonali/Desktop/DS/ml/project_final/fruits/fruits-360/modTraining_medtraj1 / Mulberry_103_100_f1 .jpg\n",
      "27000 : loaded img -  C:/Users/sonali/Desktop/DS/ml/project_final/fruits/fruits-360/modTraining_medtraj1 / Orange_107_100_f3 .jpg\n",
      "28000 : loaded img -  C:/Users/sonali/Desktop/DS/ml/project_final/fruits/fruits-360/modTraining_medtraj1 / Passion Fruit_12_100_f0 .jpg\n",
      "29000 : loaded img -  C:/Users/sonali/Desktop/DS/ml/project_final/fruits/fruits-360/modTraining_medtraj1 / Peach 2_148_100_f1 .jpg\n",
      "30000 : loaded img -  C:/Users/sonali/Desktop/DS/ml/project_final/fruits/fruits-360/modTraining_medtraj1 / Pear_122_100_f8 .jpg\n",
      "31000 : loaded img -  C:/Users/sonali/Desktop/DS/ml/project_final/fruits/fruits-360/modTraining_medtraj1 / Pear Kaiser_132_100_f6 .jpg\n",
      "32000 : loaded img -  C:/Users/sonali/Desktop/DS/ml/project_final/fruits/fruits-360/modTraining_medtraj1 / Pear Williams_133_100_f3 .jpg\n",
      "33000 : loaded img -  C:/Users/sonali/Desktop/DS/ml/project_final/fruits/fruits-360/modTraining_medtraj1 / Physalis_148_100_f5 .jpg\n",
      "34000 : loaded img -  C:/Users/sonali/Desktop/DS/ml/project_final/fruits/fruits-360/modTraining_medtraj1 / Pineapple_139_100_f6 .jpg\n",
      "35000 : loaded img -  C:/Users/sonali/Desktop/DS/ml/project_final/fruits/fruits-360/modTraining_medtraj1 / Pitahaya Red_145_100_f4 .jpg\n",
      "36000 : loaded img -  C:/Users/sonali/Desktop/DS/ml/project_final/fruits/fruits-360/modTraining_medtraj1 / Plum 3_104_100_f7 .jpg\n",
      "37000 : loaded img -  C:/Users/sonali/Desktop/DS/ml/project_final/fruits/fruits-360/modTraining_medtraj1 / Pomelo Sweetie_113_100_f1 .jpg\n",
      "38000 : loaded img -  C:/Users/sonali/Desktop/DS/ml/project_final/fruits/fruits-360/modTraining_medtraj1 / Rambutan_115_100_f5 .jpg\n",
      "39000 : loaded img -  C:/Users/sonali/Desktop/DS/ml/project_final/fruits/fruits-360/modTraining_medtraj1 / Redcurrant_120_100_f7 .jpg\n",
      "40000 : loaded img -  C:/Users/sonali/Desktop/DS/ml/project_final/fruits/fruits-360/modTraining_medtraj1 / Strawberry_126_100_f6 .jpg\n",
      "41000 : loaded img -  C:/Users/sonali/Desktop/DS/ml/project_final/fruits/fruits-360/modTraining_medtraj1 / Tamarillo_132_100_f4 .jpg\n",
      "42000 : loaded img -  C:/Users/sonali/Desktop/DS/ml/project_final/fruits/fruits-360/modTraining_medtraj1 / Tomato 1_137_100_f3 .jpg\n",
      "43000 : loaded img -  C:/Users/sonali/Desktop/DS/ml/project_final/fruits/fruits-360/modTraining_medtraj1 / Tomato 3_145_100_f4 .jpg\n",
      "44000 : loaded img -  C:/Users/sonali/Desktop/DS/ml/project_final/fruits/fruits-360/modTraining_medtraj1 / Tomato Cherry Red_140_100_f10 .jpg\n"
     ]
    }
   ],
   "source": [
    "TR_DATA_DIR = 'C:/Users/sonali/Desktop/DS/ml/project_final/fruits/fruits-360/modTraining_medtraj1'\n",
    "# Load the training set\n",
    "(trData,trLabel) = loadDataAndLabels(TR_DATA_DIR)"
   ]
  },
  {
   "cell_type": "code",
   "execution_count": 25,
   "metadata": {},
   "outputs": [
    {
     "name": "stdout",
     "output_type": "stream",
     "text": [
      "0 : loaded img -  C:/Users/sonali/Desktop/DS/ml/project_final/fruits/fruits-360/modTest_medtraj1 / Apple Braeburn_321_100_f0 .jpg\n",
      "1000 : loaded img -  C:/Users/sonali/Desktop/DS/ml/project_final/fruits/fruits-360/modTest_medtraj1 / Apple Red Yellow 2_112_100_f4 .jpg\n",
      "2000 : loaded img -  C:/Users/sonali/Desktop/DS/ml/project_final/fruits/fruits-360/modTest_medtraj1 / Carambula_146_100_f8 .jpg\n",
      "3000 : loaded img -  C:/Users/sonali/Desktop/DS/ml/project_final/fruits/fruits-360/modTest_medtraj1 / Granadilla_105_100_f0 .jpg\n",
      "4000 : loaded img -  C:/Users/sonali/Desktop/DS/ml/project_final/fruits/fruits-360/modTest_medtraj1 / Huckleberry_100_100_f11 .jpg\n",
      "5000 : loaded img -  C:/Users/sonali/Desktop/DS/ml/project_final/fruits/fruits-360/modTest_medtraj1 / Mangostan_132_100_f6 .jpg\n",
      "6000 : loaded img -  C:/Users/sonali/Desktop/DS/ml/project_final/fruits/fruits-360/modTest_medtraj1 / Pear_322_100_f1 .jpg\n",
      "7000 : loaded img -  C:/Users/sonali/Desktop/DS/ml/project_final/fruits/fruits-360/modTest_medtraj1 / Pitahaya Red_183_100_f0 .jpg\n",
      "8000 : loaded img -  C:/Users/sonali/Desktop/DS/ml/project_final/fruits/fruits-360/modTest_medtraj1 / Strawberry_322_100_f7 .jpg\n",
      "9000 : loaded img -  C:/Users/sonali/Desktop/DS/ml/project_final/fruits/fruits-360/modTest_medtraj1 / Walnut_105_100_f5 .jpg\n"
     ]
    }
   ],
   "source": [
    "TE_DATA_DIR = 'C:/Users/sonali/Desktop/DS/ml/project_final/fruits/fruits-360/modTest_medtraj1'\n",
    "# Load the test set\n",
    "(teData,teLabel) = loadDataAndLabels(TE_DATA_DIR)"
   ]
  },
  {
   "cell_type": "markdown",
   "metadata": {},
   "source": [
    "### Algorithim\n",
    "Tried different algorithim to check the which will give the better performace. claculate the accuracy score and confusion matrix to check how many have misclassified.\n",
    "Also save the model"
   ]
  },
  {
   "cell_type": "code",
   "execution_count": 32,
   "metadata": {},
   "outputs": [
    {
     "name": "stdout",
     "output_type": "stream",
     "text": [
      "Training Dataset\n",
      "accuracy_score on test fit: 0.6059252344757079\n",
      "confusion matrix\n",
      "[[15942   134   905   785   200]\n",
      " [ 2505   280  1173   608   112]\n",
      " [ 2625   131  3762  2231   264]\n",
      " [ 1696    58  1413  5696   534]\n",
      " [  522     5   159  1671  1583]]\n",
      "None\n",
      "Testing Dataset\n",
      "accuracy_score on test fit: 0.5510880371147686\n",
      "confusion matrix\n",
      "[[3080   33  203  185   70]\n",
      " [ 475   36  205  146   32]\n",
      " [ 582   50  565  512  107]\n",
      " [ 382   18  337 1007  180]\n",
      " [ 123    2   44  378  301]]\n",
      "None\n"
     ]
    }
   ],
   "source": [
    "#LogisticRegression\n",
    "logreg = LogisticRegression()\n",
    "#fit the model\n",
    "logreg.fit(trData, trLabel)\n",
    "#print confusion matrix for training and test dataset\n",
    "print(\"Training Dataset\")\n",
    "print(evaluate_classifier(logreg, trData, trLabel))\n",
    "print(\"Testing Dataset\")\n",
    "print(evaluate_classifier(logreg, teData, teLabel))"
   ]
  },
  {
   "cell_type": "code",
   "execution_count": 57,
   "metadata": {},
   "outputs": [
    {
     "name": "stdout",
     "output_type": "stream",
     "text": [
      "accuracy_score on test fit: 0.5510880371147686\n",
      "confusion matrix\n",
      "[[3080   33  203  185   70]\n",
      " [ 475   36  205  146   32]\n",
      " [ 582   50  565  512  107]\n",
      " [ 382   18  337 1007  180]\n",
      " [ 123    2   44  378  301]]\n"
     ]
    }
   ],
   "source": [
    "# Save model..\n",
    "filename = 'clf_logreg_medtraj1.sav'\n",
    "pickle.dump(logreg, open(filename, 'wb'))\n",
    "logreg_loaded = pickle.load(open(filename, 'rb'))\n",
    "evaluate_classifier(logreg_loaded, teData, teLabel)"
   ]
  },
  {
   "cell_type": "markdown",
   "metadata": {},
   "source": [
    "#### Gaussian_NB\n",
    "accuracy score is very less"
   ]
  },
  {
   "cell_type": "code",
   "execution_count": 35,
   "metadata": {},
   "outputs": [
    {
     "name": "stdout",
     "output_type": "stream",
     "text": [
      "Training Dataset\n",
      "accuracy_score on test fit: 0.28937191625550074\n",
      "confusion matrix\n",
      "[[7784 1745  252  294 7891]\n",
      " [ 593  926  171  136 2852]\n",
      " [ 616 1193  453  277 6474]\n",
      " [ 396  514  226  198 8063]\n",
      " [ 109   80   60   32 3659]]\n",
      "None\n",
      "Testing Dataset\n",
      "accuracy_score on test fit: 0.29338340881475755\n",
      "confusion matrix\n",
      "[[1592  316   60   56 1547]\n",
      " [ 125  148   24   32  565]\n",
      " [ 143  219   84   43 1327]\n",
      " [  89   95   52   43 1645]\n",
      " [  23   17    9   10  789]]\n",
      "None\n"
     ]
    }
   ],
   "source": [
    "#Gaussian_NB\n",
    "Gaussian_NB=GaussianNB()\n",
    "#fit model\n",
    "Gaussian_NB.fit(trData, trLabel)\n",
    "#print confusion matrix for training and test dataset\n",
    "print(\"Training Dataset\")\n",
    "print(evaluate_classifier(Gaussian_NB, trData, trLabel))\n",
    "print(\"Testing Dataset\")\n",
    "print(evaluate_classifier(Gaussian_NB, teData, teLabel))\n"
   ]
  },
  {
   "cell_type": "code",
   "execution_count": 56,
   "metadata": {},
   "outputs": [
    {
     "name": "stdout",
     "output_type": "stream",
     "text": [
      "accuracy_score on test fit: 0.29338340881475755\n",
      "confusion matrix\n",
      "[[1592  316   60   56 1547]\n",
      " [ 125  148   24   32  565]\n",
      " [ 143  219   84   43 1327]\n",
      " [  89   95   52   43 1645]\n",
      " [  23   17    9   10  789]]\n"
     ]
    }
   ],
   "source": [
    "# Save model..\n",
    "filename = 'clf_Gaussian_NB_medtraj1.sav'\n",
    "pickle.dump(Gaussian_NB, open(filename, 'wb'))\n",
    "Gaussian_NB_loaded = pickle.load(open(filename, 'rb'))\n",
    "evaluate_classifier(Gaussian_NB_loaded, teData, teLabel)"
   ]
  },
  {
   "cell_type": "markdown",
   "metadata": {},
   "source": [
    "#### random forest"
   ]
  },
  {
   "cell_type": "code",
   "execution_count": 36,
   "metadata": {},
   "outputs": [
    {
     "name": "stdout",
     "output_type": "stream",
     "text": [
      "Training Dataset\n",
      "accuracy_score on test fit: 0.9941547761923812\n",
      "confusion matrix\n",
      "[[17954     8     2     2     0]\n",
      " [   66  4592    17     3     0]\n",
      " [    9    15  8966    23     0]\n",
      " [    0     2    38  9345    12]\n",
      " [    0     0     1    65  3874]]\n",
      "None\n",
      "Testing Dataset\n",
      "accuracy_score on test fit: 0.7563238705401525\n",
      "confusion matrix\n",
      "[[3399   92   65   14    1]\n",
      " [ 319  275  260   40    0]\n",
      " [ 130  181 1130  359   16]\n",
      " [  15   12  322 1434  141]\n",
      " [   2    0    4  233  609]]\n",
      "None\n"
     ]
    }
   ],
   "source": [
    "#random_forest\n",
    "random_forest = RandomForestClassifier(n_estimators=10)\n",
    "random_forest.fit(trData, trLabel)\n",
    "#confusion matrix\n",
    "print(\"Training Dataset\")\n",
    "print(evaluate_classifier(random_forest, trData, trLabel))\n",
    "print(\"Testing Dataset\")\n",
    "print(evaluate_classifier(random_forest, teData, teLabel))"
   ]
  },
  {
   "cell_type": "code",
   "execution_count": 49,
   "metadata": {},
   "outputs": [],
   "source": [
    "# Save model..\n",
    "filename = 'clf_randomforest_medtraj1.sav'\n",
    "pickle.dump(random_forest, open(filename, 'wb'))"
   ]
  },
  {
   "cell_type": "code",
   "execution_count": 50,
   "metadata": {},
   "outputs": [
    {
     "name": "stdout",
     "output_type": "stream",
     "text": [
      "accuracy_score on test fit: 0.7563238705401525\n",
      "confusion matrix\n",
      "[[3399   92   65   14    1]\n",
      " [ 319  275  260   40    0]\n",
      " [ 130  181 1130  359   16]\n",
      " [  15   12  322 1434  141]\n",
      " [   2    0    4  233  609]]\n"
     ]
    }
   ],
   "source": [
    "random_forest_loaded = pickle.load(open(filename, 'rb'))\n",
    "evaluate_classifier(random_forest_loaded, teData, teLabel)"
   ]
  },
  {
   "cell_type": "markdown",
   "metadata": {},
   "source": [
    "### Support vextor classifier"
   ]
  },
  {
   "cell_type": "code",
   "execution_count": 40,
   "metadata": {},
   "outputs": [
    {
     "name": "stdout",
     "output_type": "stream",
     "text": [
      "Training Dataset\n",
      "accuracy_score on test fit: 0.6990043116860026\n",
      "confusion matrix\n",
      "[[16677    30   860   394     5]\n",
      " [ 2045   234  1912   475    12]\n",
      " [ 1059    45  5357  2525    27]\n",
      " [  393     0  1239  7497   268]\n",
      " [   84     0     1  2169  1686]]\n",
      "None\n",
      "Testing Dataset\n",
      "accuracy_score on test fit: 0.6854081519938142\n",
      "confusion matrix\n",
      "[[3330    5  157   78    1]\n",
      " [ 403   30  350  109    2]\n",
      " [ 255    9  971  574    7]\n",
      " [  73    0  242 1536   73]\n",
      " [  17    0    0  493  338]]\n",
      "None\n"
     ]
    }
   ],
   "source": [
    "#SVC\n",
    "svc=SVC(C=1.0, kernel='rbf',degree=3,random_state=42)\n",
    "svc.fit(trData, trLabel)\n",
    "print(\"Training Dataset\")\n",
    "print(evaluate_classifier(svc, trData, trLabel))\n",
    "print(\"Testing Dataset\")\n",
    "print(evaluate_classifier(svc, teData, teLabel))"
   ]
  },
  {
   "cell_type": "code",
   "execution_count": 51,
   "metadata": {},
   "outputs": [
    {
     "name": "stdout",
     "output_type": "stream",
     "text": [
      "accuracy_score on test fit: 0.6854081519938142\n",
      "confusion matrix\n",
      "[[3330    5  157   78    1]\n",
      " [ 403   30  350  109    2]\n",
      " [ 255    9  971  574    7]\n",
      " [  73    0  242 1536   73]\n",
      " [  17    0    0  493  338]]\n"
     ]
    }
   ],
   "source": [
    "# Save model..\n",
    "filename = 'clf_SVC_medtraj1.sav'\n",
    "pickle.dump(svc, open(filename, 'wb'))\n",
    "svc_loaded = pickle.load(open(filename, 'rb'))\n",
    "evaluate_classifier(svc_loaded, teData, teLabel)"
   ]
  },
  {
   "cell_type": "code",
   "execution_count": 41,
   "metadata": {},
   "outputs": [
    {
     "name": "stdout",
     "output_type": "stream",
     "text": [
      "Training Dataset\n",
      "accuracy_score on test fit: 0.9941547761923812\n",
      "confusion matrix\n",
      "[[17954     8     2     2     0]\n",
      " [   66  4592    17     3     0]\n",
      " [    9    15  8966    23     0]\n",
      " [    0     2    38  9345    12]\n",
      " [    0     0     1    65  3874]]\n",
      "None\n",
      "Testing Dataset\n",
      "accuracy_score on test fit: 0.749364851430465\n",
      "confusion matrix\n",
      "[[3352  123   73   19    4]\n",
      " [ 315  304  230   43    2]\n",
      " [ 119  190 1164  324   19]\n",
      " [  24   14  360 1376  150]\n",
      " [   4    1    5  250  588]]\n",
      "None\n"
     ]
    }
   ],
   "source": [
    "#Bagging classifier\n",
    "bagging_classifier=BaggingClassifier(n_estimators=10,max_samples=1.0,random_state=42,)\n",
    "bagging_classifier.fit(trData, trLabel)\n",
    "print(\"Training Dataset\")\n",
    "print(evaluate_classifier(random_forest, trData, trLabel))\n",
    "print(\"Testing Dataset\")\n",
    "print(evaluate_classifier(bagging_classifier, teData, teLabel))"
   ]
  },
  {
   "cell_type": "code",
   "execution_count": 55,
   "metadata": {},
   "outputs": [
    {
     "name": "stdout",
     "output_type": "stream",
     "text": [
      "accuracy_score on test fit: 0.749364851430465\n",
      "confusion matrix\n",
      "[[3352  123   73   19    4]\n",
      " [ 315  304  230   43    2]\n",
      " [ 119  190 1164  324   19]\n",
      " [  24   14  360 1376  150]\n",
      " [   4    1    5  250  588]]\n"
     ]
    }
   ],
   "source": [
    "# Save model..\n",
    "filename = 'clf_bagging_classifier_medtraj1.sav'\n",
    "pickle.dump(bagging_classifier, open(filename, 'wb'))\n",
    "bagging_classifier_loaded = pickle.load(open(filename, 'rb'))\n",
    "evaluate_classifier(bagging_classifier_loaded, teData, teLabel)"
   ]
  },
  {
   "cell_type": "code",
   "execution_count": 44,
   "metadata": {},
   "outputs": [
    {
     "name": "stdout",
     "output_type": "stream",
     "text": [
      "Training Dataset\n",
      "accuracy_score on test fit: 0.5922567453438237\n",
      "confusion matrix\n",
      "[[16056     2  1020   835    53]\n",
      " [ 3069     5  1091   482    31]\n",
      " [ 3721    10  3284  1843   155]\n",
      " [ 1708     0  1790  4990   909]\n",
      " [  285     0     2  1340  2313]]\n",
      "None\n",
      "Testing Dataset\n",
      "accuracy_score on test fit: 0.5908538605986966\n",
      "confusion matrix\n",
      "[[3164    0  213  183   11]\n",
      " [ 543    0  217  122   12]\n",
      " [ 737    2  604  450   23]\n",
      " [ 332    0  330 1059  203]\n",
      " [  58    0    5  263  522]]\n",
      "None\n"
     ]
    }
   ],
   "source": [
    "#AdaBoost_Classifier\n",
    "adaBoost_classifier=AdaBoostClassifier(n_estimators=50,random_state=42)\n",
    "adaBoost_classifier.fit(trData, trLabel)\n",
    "#print confusion matrix\n",
    "print(\"Training Dataset\")\n",
    "print(evaluate_classifier(adaBoost_classifier, trData, trLabel))\n",
    "print(\"Testing Dataset\")\n",
    "print(evaluate_classifier(adaBoost_classifier, teData, teLabel))"
   ]
  },
  {
   "cell_type": "code",
   "execution_count": 54,
   "metadata": {},
   "outputs": [
    {
     "name": "stdout",
     "output_type": "stream",
     "text": [
      "accuracy_score on test fit: 0.5908538605986966\n",
      "confusion matrix\n",
      "[[3164    0  213  183   11]\n",
      " [ 543    0  217  122   12]\n",
      " [ 737    2  604  450   23]\n",
      " [ 332    0  330 1059  203]\n",
      " [  58    0    5  263  522]]\n"
     ]
    }
   ],
   "source": [
    "# Save model..\n",
    "filename = 'clf_adaBoost_classifier_medtraj1.sav'\n",
    "pickle.dump(adaBoost_classifier, open(filename, 'wb'))\n",
    "adaBoost_classifier_loaded = pickle.load(open(filename, 'rb'))\n",
    "evaluate_classifier(adaBoost_classifier_loaded, teData, teLabel)"
   ]
  },
  {
   "cell_type": "code",
   "execution_count": 46,
   "metadata": {},
   "outputs": [
    {
     "name": "stdout",
     "output_type": "stream",
     "text": [
      "Training Dataset\n",
      "accuracy_score on test fit: 0.7590789883095523\n",
      "confusion matrix\n",
      "[[17178   118   420   232    18]\n",
      " [ 1992   849  1502   319    16]\n",
      " [  967   113  5988  1892    53]\n",
      " [  397     3  1065  7444   488]\n",
      " [   74     0     0  1171  2695]]\n",
      "None\n",
      "Testing Dataset\n",
      "accuracy_score on test fit: 0.7184358776096321\n",
      "confusion matrix\n",
      "[[3397   33   79   54    8]\n",
      " [ 403   98  309   80    4]\n",
      " [ 253   46 1026  469   22]\n",
      " [  91    2  264 1420  147]\n",
      " [  15    0    1  269  563]]\n",
      "None\n"
     ]
    }
   ],
   "source": [
    "#Gradientboosting_classifier\n",
    "gradientboosting_classifier=GradientBoostingClassifier(learning_rate=0.1,n_estimators=100,random_state=42)\n",
    "gradientboosting_classifier.fit(trData, trLabel)\n",
    "print(\"Training Dataset\")\n",
    "print(evaluate_classifier(gradientboosting_classifier, trData, trLabel))\n",
    "print(\"Testing Dataset\")\n",
    "print(evaluate_classifier(gradientboosting_classifier, teData, teLabel))"
   ]
  },
  {
   "cell_type": "code",
   "execution_count": 53,
   "metadata": {},
   "outputs": [
    {
     "name": "stdout",
     "output_type": "stream",
     "text": [
      "accuracy_score on test fit: 0.7184358776096321\n",
      "confusion matrix\n",
      "[[3397   33   79   54    8]\n",
      " [ 403   98  309   80    4]\n",
      " [ 253   46 1026  469   22]\n",
      " [  91    2  264 1420  147]\n",
      " [  15    0    1  269  563]]\n"
     ]
    }
   ],
   "source": [
    "# Save model..\n",
    "filename = 'clf_gradientboosting_classifier_medtraj1.sav'\n",
    "pickle.dump(gradientboosting_classifier, open(filename, 'wb'))\n",
    "gradientboosting_classifier_loaded = pickle.load(open(filename, 'rb'))\n",
    "evaluate_classifier(gradientboosting_classifier_loaded, teData, teLabel)"
   ]
  },
  {
   "cell_type": "code",
   "execution_count": 48,
   "metadata": {},
   "outputs": [
    {
     "name": "stdout",
     "output_type": "stream",
     "text": [
      "Training Dataset\n",
      "accuracy_score on test fit: 0.5917455660754767\n",
      "confusion matrix\n",
      "[[15298     0  1741   913    14]\n",
      " [ 2071     0  2017   567    23]\n",
      " [ 1915     0  4302  2721    75]\n",
      " [  906     0  2136  5866   489]\n",
      " [  162     0   232  2387  1159]]\n",
      "None\n",
      "Testing Dataset\n",
      "accuracy_score on test fit: 0.5713023307190986\n",
      "confusion matrix\n",
      "[[3014    0  364  192    1]\n",
      " [ 390    0  361  138    5]\n",
      " [ 433    0  778  587   18]\n",
      " [ 202    0  440 1151  131]\n",
      " [  37    0   46  536  229]]\n",
      "None\n"
     ]
    }
   ],
   "source": [
    "#DecisionTree_Classifier\n",
    "DecisionTree_Classifier=DecisionTreeClassifier(criterion='gini',splitter='best',max_depth=5,random_state=42)\n",
    "DecisionTree_Classifier.fit(trData, trLabel)\n",
    "print(\"Training Dataset\")\n",
    "print(evaluate_classifier(DecisionTree_Classifier, trData, trLabel))\n",
    "print(\"Testing Dataset\")\n",
    "print(evaluate_classifier(DecisionTree_Classifier, teData, teLabel))"
   ]
  },
  {
   "cell_type": "code",
   "execution_count": 52,
   "metadata": {},
   "outputs": [
    {
     "name": "stdout",
     "output_type": "stream",
     "text": [
      "accuracy_score on test fit: 0.5713023307190986\n",
      "confusion matrix\n",
      "[[3014    0  364  192    1]\n",
      " [ 390    0  361  138    5]\n",
      " [ 433    0  778  587   18]\n",
      " [ 202    0  440 1151  131]\n",
      " [  37    0   46  536  229]]\n"
     ]
    }
   ],
   "source": [
    "# Save model..\n",
    "filename = 'clf_DecisionTree_Classifier_medtraj1.sav'\n",
    "pickle.dump(DecisionTree_Classifier, open(filename, 'wb'))\n",
    "DecisionTree_Classifier_loaded = pickle.load(open(filename, 'rb'))\n",
    "evaluate_classifier(DecisionTree_Classifier_loaded, teData, teLabel)"
   ]
  },
  {
   "cell_type": "code",
   "execution_count": null,
   "metadata": {},
   "outputs": [],
   "source": []
  },
  {
   "cell_type": "code",
   "execution_count": null,
   "metadata": {},
   "outputs": [],
   "source": []
  }
 ],
 "metadata": {
  "kernelspec": {
   "display_name": "Python 3",
   "language": "python",
   "name": "python3"
  },
  "language_info": {
   "codemirror_mode": {
    "name": "ipython",
    "version": 3
   },
   "file_extension": ".py",
   "mimetype": "text/x-python",
   "name": "python",
   "nbconvert_exporter": "python",
   "pygments_lexer": "ipython3",
   "version": "3.6.8"
  }
 },
 "nbformat": 4,
 "nbformat_minor": 2
}
